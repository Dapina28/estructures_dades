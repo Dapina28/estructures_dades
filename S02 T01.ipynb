{
 "cells": [
  {
   "cell_type": "markdown",
   "metadata": {},
   "source": [
    "# Exercici 1"
   ]
  },
  {
   "cell_type": "code",
   "execution_count": 2,
   "metadata": {},
   "outputs": [
    {
     "data": {
      "text/plain": [
       "['Gener',\n",
       " 'Febrer',\n",
       " 'Març',\n",
       " 'Abril',\n",
       " 'Maig',\n",
       " 'Juny',\n",
       " 'Juliol',\n",
       " 'Agost',\n",
       " 'Setembre',\n",
       " 'Octubre',\n",
       " 'Novembre',\n",
       " 'Desembre']"
      ]
     },
     "execution_count": 2,
     "metadata": {},
     "output_type": "execute_result"
    }
   ],
   "source": [
    "T1 = [\"Gener\", \"Febrer\", \"Març\"]\n",
    "T2 = [\"Abril\", \"Maig\", \"Juny\"]\n",
    "T3 = [\"Juliol\", \"Agost\", \"Setembre\"]\n",
    "T4 = [\"Octubre\", \"Novembre\", \"Desembre\"]\n",
    "M = T1 + T2 + T3 + T4\n",
    "M"
   ]
  },
  {
   "cell_type": "markdown",
   "metadata": {},
   "source": [
    "# Exercici 2"
   ]
  },
  {
   "cell_type": "code",
   "execution_count": 3,
   "metadata": {},
   "outputs": [
    {
     "data": {
      "text/plain": [
       "'Febrer'"
      ]
     },
     "execution_count": 3,
     "metadata": {},
     "output_type": "execute_result"
    }
   ],
   "source": [
    "x = T1[1]\n",
    "x"
   ]
  },
  {
   "cell_type": "code",
   "execution_count": 4,
   "metadata": {},
   "outputs": [
    {
     "data": {
      "text/plain": [
       "['Gener', 'Febrer', 'Març']"
      ]
     },
     "execution_count": 4,
     "metadata": {},
     "output_type": "execute_result"
    }
   ],
   "source": [
    "x = T1\n",
    "x"
   ]
  },
  {
   "cell_type": "code",
   "execution_count": 5,
   "metadata": {},
   "outputs": [
    {
     "data": {
      "text/plain": [
       "'SetembreOctubre'"
      ]
     },
     "execution_count": 5,
     "metadata": {},
     "output_type": "execute_result"
    }
   ],
   "source": [
    "x = T3[2] + T4[0]\n",
    "x"
   ]
  },
  {
   "cell_type": "markdown",
   "metadata": {},
   "source": [
    "# Exercici 3"
   ]
  },
  {
   "cell_type": "code",
   "execution_count": 7,
   "metadata": {},
   "outputs": [
    {
     "name": "stdout",
     "output_type": "stream",
     "text": [
      "Hi ha 8 números\n"
     ]
    }
   ],
   "source": [
    "num = [2,5,8,1,4,3,8,9]\n",
    "print(f\"Hi ha {len(num)} números\")"
   ]
  },
  {
   "cell_type": "code",
   "execution_count": 12,
   "metadata": {},
   "outputs": [
    {
     "name": "stdout",
     "output_type": "stream",
     "text": [
      "1\n"
     ]
    }
   ],
   "source": [
    "y = 0\n",
    "for x in num:\n",
    "    if x == 3:\n",
    "        y += 1\n",
    "print(y)"
   ]
  },
  {
   "cell_type": "code",
   "execution_count": 14,
   "metadata": {},
   "outputs": [
    {
     "name": "stdout",
     "output_type": "stream",
     "text": [
      "2\n"
     ]
    }
   ],
   "source": [
    "y = 0\n",
    "for x in num:\n",
    "    if x == 3 or x == 4:\n",
    "        y += 1\n",
    "print(y)"
   ]
  },
  {
   "cell_type": "code",
   "execution_count": 15,
   "metadata": {},
   "outputs": [
    {
     "name": "stdout",
     "output_type": "stream",
     "text": [
      "El número més gran és el 9\n"
     ]
    }
   ],
   "source": [
    "num.sort()\n",
    "print(f\"El número més gran és el {num[-1]}\")"
   ]
  },
  {
   "cell_type": "code",
   "execution_count": 17,
   "metadata": {},
   "outputs": [
    {
     "name": "stdout",
     "output_type": "stream",
     "text": [
      "Els tres números més petits són: [1, 2, 3]\n"
     ]
    }
   ],
   "source": [
    "print(f\"Els tres números més petits són: {num[:3]}\")"
   ]
  },
  {
   "cell_type": "code",
   "execution_count": 18,
   "metadata": {},
   "outputs": [
    {
     "name": "stdout",
     "output_type": "stream",
     "text": [
      "El rang de la llista és de 1 a 9\n"
     ]
    }
   ],
   "source": [
    "print(f\"El rang de la llista és de {num[0]} a {num[-1]}\")"
   ]
  },
  {
   "cell_type": "markdown",
   "metadata": {},
   "source": [
    "# Exercici 4"
   ]
  },
  {
   "cell_type": "code",
   "execution_count": 20,
   "metadata": {},
   "outputs": [
    {
     "data": {
      "text/plain": [
       "{'Pomes': {'Qty': 5, '€': 0.42},\n",
       " 'Peres': {'Qty': 3, '€': 0.66},\n",
       " 'Maduixa': {'Qty': 3, '€': 0.52}}"
      ]
     },
     "execution_count": 20,
     "metadata": {},
     "output_type": "execute_result"
    }
   ],
   "source": [
    "compra = { \"Pomes\" : {\"Qty\": 5, \"€\": 0.42}, \"Peres\" : {\"Qty\": 3, \"€\": 0.66} }\n",
    "compra[\"Maduixa\"] = {\"Qty\": 3, \"€\": 0.52}\n",
    "compra"
   ]
  },
  {
   "cell_type": "code",
   "execution_count": 22,
   "metadata": {},
   "outputs": [
    {
     "name": "stdout",
     "output_type": "stream",
     "text": [
      "Les peres han costat 1.98\n"
     ]
    }
   ],
   "source": [
    "peres = compra[\"Peres\"][\"Qty\"] * compra[\"Peres\"][\"€\"]\n",
    "print(f\"Les peres han costat {peres} €\")"
   ]
  },
  {
   "cell_type": "code",
   "execution_count": 26,
   "metadata": {},
   "outputs": [
    {
     "name": "stdout",
     "output_type": "stream",
     "text": [
      "Hi ha 3 fuites\n"
     ]
    }
   ],
   "source": [
    "print(f\"Hi ha {len(compra)} fuites\") \n"
   ]
  },
  {
   "cell_type": "code",
   "execution_count": 56,
   "metadata": {},
   "outputs": [
    {
     "name": "stdout",
     "output_type": "stream",
     "text": [
      "La fruita més cara és la Peres\n"
     ]
    }
   ],
   "source": [
    "i = 0\n",
    "for x in compra.keys():\n",
    "    if compra[x][\"€\"] > i:\n",
    "        i = compra[x][\"€\"]\n",
    "        r = x\n",
    "print(f\"La fruita més cara és la {r}\")\n",
    "    "
   ]
  },
  {
   "cell_type": "code",
   "execution_count": null,
   "metadata": {},
   "outputs": [],
   "source": []
  }
 ],
 "metadata": {
  "kernelspec": {
   "display_name": "Python 3",
   "language": "python",
   "name": "python3"
  },
  "language_info": {
   "codemirror_mode": {
    "name": "ipython",
    "version": 3
   },
   "file_extension": ".py",
   "mimetype": "text/x-python",
   "name": "python",
   "nbconvert_exporter": "python",
   "pygments_lexer": "ipython3",
   "version": "3.7.6"
  }
 },
 "nbformat": 4,
 "nbformat_minor": 4
}
